{
 "cells": [
  {
   "cell_type": "markdown",
   "metadata": {},
   "source": [
    "# 2.4 Exercises"
   ]
  },
  {
   "cell_type": "markdown",
   "metadata": {},
   "source": [
    "## Conceptual"
   ]
  },
  {
   "cell_type": "markdown",
   "metadata": {},
   "source": [
    "1. For each of parts (a) through (d), indicate whether we would generally expect the performance of a flexible statistical learning method to be better or worse than an inflexible method. Justify your answer.\n",
    "\n",
    "    (a) The sample size n is extremely large, and the number of predictors p is small.\n",
    "\n",
    "    (b) The number of predictors p is extremely large, and the number of observations n is small.\n",
    "\n",
    "    (c) The relationship between the predictors and response is highly non-linear.\n",
    "\n",
    "    (d) The variance of the error terms, i.e. σ2 = Var(), is extremely high."
   ]
  },
  {
   "cell_type": "markdown",
   "metadata": {},
   "source": [
    "1. **ANSWERS** \n",
    "\n",
    "    (a) better - a more flexible approach will fit the data closer and with the large sample size a better fit than an inflexible approach would be obtained\n",
    "\n",
    "    (b) worse - a flexible method would overfit the small number of observations\n",
    "\n",
    "    (c) better - with more degrees of freedom, a flexible model would obtain a better fit\n",
    "\n",
    "    (d) worse - flexible methods fit to the noise in the error terms and increase variance"
   ]
  },
  {
   "cell_type": "markdown",
   "metadata": {},
   "source": [
    "2. Explain whether each scenario is a classification or regression problem, and indicate whether we are most interested in inference or prediction. Finally, provide n and p.\n",
    "\n",
    "    (a) We collect a set of data on the top 500 firms in the US. For each firm we record profit, number of employees, industry and the CEO salary. We are interested in understanding which factors affect CEO salary.\n",
    "\n",
    "    (b) We are considering launching a new product and wish to know whether it will be a success or a failure. We collect data on 20 similar products that were previously launched. For each product we have recorded whether it was a success or failure, price charged for the product, marketing budget, competition price, and ten other variables.\n",
    "\n",
    "    (c) We are interest in predicting the % change in the USD/Euro exchange rate in relation to the weekly changes in the world stock markets. Hence we collect weekly data for all of 2012. For each week we record the % change in the USD/Euro, the % change in the US market, the % change in the British market, and the % change in the German market."
   ]
  },
  {
   "cell_type": "markdown",
   "metadata": {},
   "source": [
    "2. **ANSWERS** \n",
    "    \n",
    "    (a) Regression\n",
    "    \n",
    "        n: top 500 firms\n",
    "        p: profit, number of employees, industry\n",
    "          \n",
    "          \n",
    "    (b) Classfication\n",
    "    \n",
    "        n: 20 similar products\n",
    "        p: price charged for the product, marketing budget, competition price, and ten other variables\n",
    "    \n",
    "    (c) Regression\n",
    "    \n",
    "        n: weekly data for all of 2012\n",
    "        p: % change in the USD/Euro, the % change in the US market, the % change in the British market, and the % change in the German market"
   ]
  },
  {
   "cell_type": "markdown",
   "metadata": {},
   "source": [
    "3. We now revisit the bias-variance decomposition.\n",
    "\n",
    "    (a) Provide a sketch of typical (squared) bias, variance, training error, test error, and Bayes (or irreducible) error curves, on a single plot, as we go from less flexible statistical learning methods towards more flexible approaches. The x-axis should represent the amount of flexibility in the method, and the y-axis should represent the values for each curve. There should be five curves. Make sure to label each one.\n",
    "    \n",
    "    (b) Explain why each of the five curves has the shape displayed in part (a)."
   ]
  },
  {
   "cell_type": "markdown",
   "metadata": {},
   "source": [
    "4. You will now think of some real-life applications for statistical learning.\n",
    "\n",
    "    (a) Describe three real-life applications in which classification might be useful. Describe the response, as well as the predictors. Is the goal of each application inference or prediction? Explain your answer.\n",
    "    \n",
    "    (b) Describe three real-life applications in which regression might be useful. Describe the response, as well as the predictors. Is the goal of each application inference or prediction? Explain your answer.\n",
    "    \n",
    "    (c) Describe three real-life applications in which cluster analysis might be useful."
   ]
  },
  {
   "cell_type": "markdown",
   "metadata": {},
   "source": [
    "4. **ANSWERS**\n",
    "\n",
    "    4. (a) i. stock market price direction, prediction, response: up, down, input: yesterday's price movement % change, two previous day price movement %change, etc.\n",
    "\n",
    "    ii. illness classification, inference, response: ill, healthy, input: resting heart rate, resting breath rate, mile run time\n",
    "\n",
    "    iii. car part replacement, prediction, response: needs to be replace, good, input: age of part, mileage used for, current amperage\n",
    "\n",
    "    (b) i. CEO salary. inference. predictors: age, industry experience, industry, years of education. response: salary.\n",
    "\n",
    "    ii. car part replacement. inference. response: life of car part. predictors: age of part, mileage used for, current amperage.\n",
    "\n",
    "    iii. illness classification, prediction, response: age of death, input: current age, gender, resting heart rate, resting breath rate, mile run time.\n",
    "\n",
    "    (c) i. cancer type clustering. diagnose cancer types more accurately.\n",
    "\n",
    "    ii. Netflix movie recommendations. recommend movies based on users who have atched and rated similar movies. \n",
    "    \n",
    "    iii. marketing survey. clustering of demographics for a product(s) to see which clusters of consumers buy which products."
   ]
  },
  {
   "cell_type": "code",
   "execution_count": null,
   "metadata": {},
   "outputs": [],
   "source": []
  }
 ],
 "metadata": {
  "kernelspec": {
   "display_name": "Python 3",
   "language": "python",
   "name": "python3"
  },
  "language_info": {
   "codemirror_mode": {
    "name": "ipython",
    "version": 3
   },
   "file_extension": ".py",
   "mimetype": "text/x-python",
   "name": "python",
   "nbconvert_exporter": "python",
   "pygments_lexer": "ipython3",
   "version": "3.6.4"
  }
 },
 "nbformat": 4,
 "nbformat_minor": 2
}
